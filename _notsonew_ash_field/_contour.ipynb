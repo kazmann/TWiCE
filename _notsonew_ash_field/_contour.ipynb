{
 "cells": [
  {
   "cell_type": "markdown",
   "id": "92a2ed4b-1338-4910-a9f1-69d70215f26a",
   "metadata": {
    "editable": true,
    "slideshow": {
     "slide_type": ""
    },
    "tags": []
   },
   "source": [
    "# Run TWiCE\n"
   ]
  },
  {
   "cell_type": "code",
   "execution_count": null,
   "id": "e74c5480-a854-4c66-9cb9-b77a1467cc3a",
   "metadata": {
    "editable": true,
    "slideshow": {
     "slide_type": ""
    },
    "tags": []
   },
   "outputs": [],
   "source": [
    "import subprocess\n",
    "\n",
    "subprocess.run(['sh', '_compile.sh'], check=True, capture_output=True, text=True)\n",
    "\n",
    "try:\n",
    "    result = subprocess.run(['./twice', 'conf.conf', 'wind.txt', 'topo.txt'], check=True, capture_output=True, text=True)\n",
    "    print(result.stdout)\n",
    "except subprocess.CalledProcessError as e:\n",
    "    print(f'Error occurred: {e.stderr}')\n"
   ]
  },
  {
   "cell_type": "markdown",
   "id": "897c8160-2f68-4e88-8507-be851e465b5e",
   "metadata": {
    "editable": true,
    "slideshow": {
     "slide_type": ""
    },
    "tags": []
   },
   "source": [
    "# DRAW A ISOPACH MAP\n",
    "\n",
    "Draw an isopach map based on a TWiCE output named \"massloading.txt\".\n"
   ]
  },
  {
   "cell_type": "code",
   "execution_count": null,
   "id": "8035724a-e5fd-4dd7-8259-a96f31850617",
   "metadata": {},
   "outputs": [],
   "source": [
    "import pandas as pd\n",
    "import matplotlib.pyplot as plt\n",
    "import numpy as np\n",
    "import seaborn as sns\n",
    "\n",
    "# massloading.txt ファイルのパスを指定\n",
    "file_path = 'massloading.txt'\n",
    "\n",
    "# データの読み込み\n",
    "data = pd.read_csv(file_path, sep='\\t')  # 区切り文字がタブの場合（適宜変更）\n",
    "\n",
    "# データの確認\n",
    "data.head()\n",
    "\n",
    "# 対数変換を行い、新しい列 'log10_ttllmassloading' を作成\n",
    "data['log2_ttllmassloading'] = np.log10(data['ttlmassloading(kg/sq-m)']) / np.log10(2)\n",
    "\n",
    "# 対数変換後のデータの確認\n",
    "print(data[['x(m)', 'y(m)', 'log2_ttllmassloading']].head())\n",
    "\n",
    "# ピボットテーブルを作成\n",
    "pivot_data = data.pivot_table(index='y(m)', columns='x(m)', values='log2_ttllmassloading')\n",
    "\n",
    "# 等値線を描画するレベルを指定\n",
    "levels = np.arange(0, pivot_data.max().max(), 1)  # 下限から上限まで1刻みで\n",
    "\n",
    "# x軸とy軸の範囲を計算\n",
    "x_min, x_max = pivot_data.columns.min(), pivot_data.columns.max()\n",
    "y_min, y_max = pivot_data.index.min(), pivot_data.index.max()\n",
    "\n",
    "delta_x = x_max - x_min\n",
    "delta_y = y_max - y_min\n",
    "plot_height = 10 * (delta_y / delta_x)\n",
    "\n",
    "# コンター図の描画\n",
    "plt.figure(figsize=(10, plot_height))\n",
    "contour = plt.contour(pivot_data.columns, pivot_data.index, pivot_data, levels=levels, cmap='viridis')\n",
    "\n",
    "# 等高線のラベルを追加\n",
    "plt.clabel(contour, inline=True, fontsize=8, fmt=lambda x: f'{2**x:.0f} kg/m$^2$', colors='black')\n",
    "\n",
    "#plt.colorbar(contour, label='log10(ttlmassloading)')\n",
    "plt.title('Log2 Mass Loading Contour Lines')\n",
    "plt.xlabel('x (m)')\n",
    "plt.ylabel('y (m)')\n",
    "\n",
    "plt.savefig('contour_plot.png', dpi=300, bbox_inches='tight')\n",
    "\n",
    "plt.show()\n"
   ]
  },
  {
   "cell_type": "code",
   "execution_count": null,
   "id": "4066a4a8-8344-4a42-8035-9ea10b635116",
   "metadata": {
    "editable": true,
    "slideshow": {
     "slide_type": ""
    },
    "tags": []
   },
   "outputs": [],
   "source": []
  }
 ],
 "metadata": {
  "kernelspec": {
   "display_name": "Python [conda env:notebook] *",
   "language": "python",
   "name": "conda-env-notebook-py"
  },
  "language_info": {
   "codemirror_mode": {
    "name": "ipython",
    "version": 3
   },
   "file_extension": ".py",
   "mimetype": "text/x-python",
   "name": "python",
   "nbconvert_exporter": "python",
   "pygments_lexer": "ipython3",
   "version": "3.10.11"
  }
 },
 "nbformat": 4,
 "nbformat_minor": 5
}
